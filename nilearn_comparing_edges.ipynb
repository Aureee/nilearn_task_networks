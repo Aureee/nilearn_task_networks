{
 "cells": [
  {
   "cell_type": "code",
   "execution_count": 10,
   "metadata": {},
   "outputs": [],
   "source": [
    "import numpy as np\n",
    "from nilearn.connectome import sym_matrix_to_vec\n",
    "from scipy import stats\n",
    "dualnback = np.load(\"/home/finc/Dropbox/Projects/LearningBrain/data/neuroimaging/correlation_matrices_dualnback.npy\")\n",
    "\n"
   ]
  },
  {
   "cell_type": "code",
   "execution_count": 29,
   "metadata": {},
   "outputs": [
    {
     "data": {
      "text/plain": [
       "(46, 34716)"
      ]
     },
     "execution_count": 29,
     "metadata": {},
     "output_type": "execute_result"
    }
   ],
   "source": [
    "rest = sym_matrix_to_vec(dualnback[:,0,:,:], discard_diagonal = True)\n",
    "one_back = sym_matrix_to_vec(dualnback[:,1,:,:], discard_diagonal = True)\n",
    "two_back = sym_matrix_to_vec(dualnback[:,2,:,:], discard_diagonal = True)\n",
    "\n",
    "\n",
    "rest.shape"
   ]
  },
  {
   "cell_type": "code",
   "execution_count": 30,
   "metadata": {},
   "outputs": [
    {
     "data": {
      "text/plain": [
       "Ttest_relResult(statistic=array([-1.39379847, -0.07656235, -0.85916737, ..., -1.75437761,\n",
       "        3.50287375, -1.13929924]), pvalue=array([ 0.17022384,  0.9393111 ,  0.39480199, ...,  0.08617363,\n",
       "        0.00105254,  0.26060686]))"
      ]
     },
     "execution_count": 30,
     "metadata": {},
     "output_type": "execute_result"
    }
   ],
   "source": [
    "x = stats.ttest_rel(one_back, two_back)\n",
    "x"
   ]
  },
  {
   "cell_type": "code",
   "execution_count": 31,
   "metadata": {},
   "outputs": [
    {
     "data": {
      "text/plain": [
       "array([ 0.11789947,  0.27086616,  0.69438938,  0.45219243,  0.66555282,\n",
       "        0.68374347,  0.55194254,  0.66408107,  0.64567952,  0.63618498,\n",
       "        0.577513  ,  0.74032211,  0.4536712 ,  0.79182991,  0.76434663,\n",
       "        0.83101546,  0.76953499,  0.55589955,  0.73020987,  0.81276518,\n",
       "        0.67271682,  0.31273442,  0.83827219,  0.3167193 ,  0.68280974,\n",
       "        0.67456463,  0.67343576,  0.39341474,  0.6401789 ,  0.65885866,\n",
       "        0.37382898,  0.74833532,  0.4391893 ,  0.50772049,  0.65385749,\n",
       "        0.57088549,  0.69921614,  0.38670393,  0.74151061,  0.6023473 ,\n",
       "        0.71500914,  0.8554424 ,  0.63350861,  0.5809193 ,  0.73637046,\n",
       "        0.49218233])"
      ]
     },
     "execution_count": 31,
     "metadata": {},
     "output_type": "execute_result"
    }
   ],
   "source": [
    "one_back[:,0]"
   ]
  },
  {
   "cell_type": "code",
   "execution_count": 34,
   "metadata": {},
   "outputs": [],
   "source": [
    "stat, pvalues = stats.ttest_rel(one_back, two_back)"
   ]
  },
  {
   "cell_type": "code",
   "execution_count": 36,
   "metadata": {},
   "outputs": [
    {
     "data": {
      "text/plain": [
       "(34716,)"
      ]
     },
     "execution_count": 36,
     "metadata": {},
     "output_type": "execute_result"
    }
   ],
   "source": [
    "pvalues.shape"
   ]
  }
 ],
 "metadata": {
  "kernelspec": {
   "display_name": "Python 3",
   "language": "python",
   "name": "python3"
  },
  "language_info": {
   "codemirror_mode": {
    "name": "ipython",
    "version": 3
   },
   "file_extension": ".py",
   "mimetype": "text/x-python",
   "name": "python",
   "nbconvert_exporter": "python",
   "pygments_lexer": "ipython3",
   "version": "3.6.3"
  }
 },
 "nbformat": 4,
 "nbformat_minor": 2
}
