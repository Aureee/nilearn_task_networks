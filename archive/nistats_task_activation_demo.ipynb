{
 "cells": [
  {
   "cell_type": "code",
   "execution_count": 2,
   "metadata": {},
   "outputs": [],
   "source": [
    "import pandas as pd\n",
    "import numpy as np\n",
    "%matplotlib inline"
   ]
  },
  {
   "cell_type": "code",
   "execution_count": 3,
   "metadata": {},
   "outputs": [],
   "source": [
    "fmri_img = '/home/finc/Dropbox/sub-02/ses-1/func/sub-02_ses-1_task-dualnback_bold_space-MNI152NLin2009cAsym_preproc.nii.gz'\n",
    "onsets_dir = '/home/finc/Dropbox/sub-02/onsets_dualnback.csv'"
   ]
  },
  {
   "cell_type": "markdown",
   "metadata": {},
   "source": [
    "Specifying the experimental paradigm\n",
    "------------------------------------\n",
    "\n",
    "We must provide a description of the experiment, that is, define the\n",
    "timing of the auditory stimulation and rest periods. According to\n",
    "the documentation of the dataset, there were 16 42s blocks --- in\n",
    "which 6 scans were acquired --- alternating between rest and\n",
    "auditory stimulation, starting with rest. We use standard python\n",
    "functions to create a pandas.DataFrame object that specifies the\n",
    "timings:"
   ]
  },
  {
   "cell_type": "code",
   "execution_count": 4,
   "metadata": {},
   "outputs": [
    {
     "data": {
      "text/html": [
       "<div>\n",
       "<style>\n",
       "    .dataframe thead tr:only-child th {\n",
       "        text-align: right;\n",
       "    }\n",
       "\n",
       "    .dataframe thead th {\n",
       "        text-align: left;\n",
       "    }\n",
       "\n",
       "    .dataframe tbody tr th {\n",
       "        vertical-align: top;\n",
       "    }\n",
       "</style>\n",
       "<table border=\"1\" class=\"dataframe\">\n",
       "  <thead>\n",
       "    <tr style=\"text-align: right;\">\n",
       "      <th></th>\n",
       "      <th>duration</th>\n",
       "      <th>onset</th>\n",
       "      <th>trial_type</th>\n",
       "    </tr>\n",
       "  </thead>\n",
       "  <tbody>\n",
       "    <tr>\n",
       "      <th>0</th>\n",
       "      <td>4.0</td>\n",
       "      <td>0.0</td>\n",
       "      <td>intro</td>\n",
       "    </tr>\n",
       "    <tr>\n",
       "      <th>1</th>\n",
       "      <td>30.0</td>\n",
       "      <td>4.0</td>\n",
       "      <td>1-back</td>\n",
       "    </tr>\n",
       "    <tr>\n",
       "      <th>2</th>\n",
       "      <td>4.0</td>\n",
       "      <td>34.0</td>\n",
       "      <td>intro</td>\n",
       "    </tr>\n",
       "    <tr>\n",
       "      <th>3</th>\n",
       "      <td>30.0</td>\n",
       "      <td>38.0</td>\n",
       "      <td>2-back</td>\n",
       "    </tr>\n",
       "    <tr>\n",
       "      <th>4</th>\n",
       "      <td>4.0</td>\n",
       "      <td>68.0</td>\n",
       "      <td>intro</td>\n",
       "    </tr>\n",
       "    <tr>\n",
       "      <th>5</th>\n",
       "      <td>30.0</td>\n",
       "      <td>72.0</td>\n",
       "      <td>1-back</td>\n",
       "    </tr>\n",
       "    <tr>\n",
       "      <th>6</th>\n",
       "      <td>4.0</td>\n",
       "      <td>102.0</td>\n",
       "      <td>intro</td>\n",
       "    </tr>\n",
       "    <tr>\n",
       "      <th>7</th>\n",
       "      <td>30.0</td>\n",
       "      <td>106.0</td>\n",
       "      <td>2-back</td>\n",
       "    </tr>\n",
       "    <tr>\n",
       "      <th>8</th>\n",
       "      <td>4.0</td>\n",
       "      <td>136.0</td>\n",
       "      <td>intro</td>\n",
       "    </tr>\n",
       "    <tr>\n",
       "      <th>9</th>\n",
       "      <td>30.0</td>\n",
       "      <td>140.0</td>\n",
       "      <td>1-back</td>\n",
       "    </tr>\n",
       "    <tr>\n",
       "      <th>10</th>\n",
       "      <td>4.0</td>\n",
       "      <td>170.0</td>\n",
       "      <td>intro</td>\n",
       "    </tr>\n",
       "    <tr>\n",
       "      <th>11</th>\n",
       "      <td>30.0</td>\n",
       "      <td>174.0</td>\n",
       "      <td>2-back</td>\n",
       "    </tr>\n",
       "    <tr>\n",
       "      <th>12</th>\n",
       "      <td>4.0</td>\n",
       "      <td>204.0</td>\n",
       "      <td>intro</td>\n",
       "    </tr>\n",
       "    <tr>\n",
       "      <th>13</th>\n",
       "      <td>30.0</td>\n",
       "      <td>208.0</td>\n",
       "      <td>1-back</td>\n",
       "    </tr>\n",
       "    <tr>\n",
       "      <th>14</th>\n",
       "      <td>4.0</td>\n",
       "      <td>238.0</td>\n",
       "      <td>intro</td>\n",
       "    </tr>\n",
       "    <tr>\n",
       "      <th>15</th>\n",
       "      <td>30.0</td>\n",
       "      <td>242.0</td>\n",
       "      <td>2-back</td>\n",
       "    </tr>\n",
       "    <tr>\n",
       "      <th>16</th>\n",
       "      <td>4.0</td>\n",
       "      <td>272.0</td>\n",
       "      <td>intro</td>\n",
       "    </tr>\n",
       "    <tr>\n",
       "      <th>17</th>\n",
       "      <td>30.0</td>\n",
       "      <td>276.0</td>\n",
       "      <td>1-back</td>\n",
       "    </tr>\n",
       "    <tr>\n",
       "      <th>18</th>\n",
       "      <td>4.0</td>\n",
       "      <td>306.0</td>\n",
       "      <td>intro</td>\n",
       "    </tr>\n",
       "    <tr>\n",
       "      <th>19</th>\n",
       "      <td>30.0</td>\n",
       "      <td>310.0</td>\n",
       "      <td>2-back</td>\n",
       "    </tr>\n",
       "    <tr>\n",
       "      <th>20</th>\n",
       "      <td>4.0</td>\n",
       "      <td>340.0</td>\n",
       "      <td>intro</td>\n",
       "    </tr>\n",
       "    <tr>\n",
       "      <th>21</th>\n",
       "      <td>30.0</td>\n",
       "      <td>344.0</td>\n",
       "      <td>1-back</td>\n",
       "    </tr>\n",
       "    <tr>\n",
       "      <th>22</th>\n",
       "      <td>4.0</td>\n",
       "      <td>374.0</td>\n",
       "      <td>intro</td>\n",
       "    </tr>\n",
       "    <tr>\n",
       "      <th>23</th>\n",
       "      <td>30.0</td>\n",
       "      <td>378.0</td>\n",
       "      <td>2-back</td>\n",
       "    </tr>\n",
       "    <tr>\n",
       "      <th>24</th>\n",
       "      <td>4.0</td>\n",
       "      <td>408.0</td>\n",
       "      <td>intro</td>\n",
       "    </tr>\n",
       "    <tr>\n",
       "      <th>25</th>\n",
       "      <td>30.0</td>\n",
       "      <td>412.0</td>\n",
       "      <td>1-back</td>\n",
       "    </tr>\n",
       "    <tr>\n",
       "      <th>26</th>\n",
       "      <td>4.0</td>\n",
       "      <td>442.0</td>\n",
       "      <td>intro</td>\n",
       "    </tr>\n",
       "    <tr>\n",
       "      <th>27</th>\n",
       "      <td>30.0</td>\n",
       "      <td>446.0</td>\n",
       "      <td>2-back</td>\n",
       "    </tr>\n",
       "    <tr>\n",
       "      <th>28</th>\n",
       "      <td>4.0</td>\n",
       "      <td>476.0</td>\n",
       "      <td>intro</td>\n",
       "    </tr>\n",
       "    <tr>\n",
       "      <th>29</th>\n",
       "      <td>30.0</td>\n",
       "      <td>480.0</td>\n",
       "      <td>1-back</td>\n",
       "    </tr>\n",
       "    <tr>\n",
       "      <th>30</th>\n",
       "      <td>4.0</td>\n",
       "      <td>510.0</td>\n",
       "      <td>intro</td>\n",
       "    </tr>\n",
       "    <tr>\n",
       "      <th>31</th>\n",
       "      <td>30.0</td>\n",
       "      <td>514.0</td>\n",
       "      <td>2-back</td>\n",
       "    </tr>\n",
       "    <tr>\n",
       "      <th>32</th>\n",
       "      <td>4.0</td>\n",
       "      <td>544.0</td>\n",
       "      <td>intro</td>\n",
       "    </tr>\n",
       "    <tr>\n",
       "      <th>33</th>\n",
       "      <td>30.0</td>\n",
       "      <td>548.0</td>\n",
       "      <td>1-back</td>\n",
       "    </tr>\n",
       "    <tr>\n",
       "      <th>34</th>\n",
       "      <td>4.0</td>\n",
       "      <td>578.0</td>\n",
       "      <td>intro</td>\n",
       "    </tr>\n",
       "    <tr>\n",
       "      <th>35</th>\n",
       "      <td>30.0</td>\n",
       "      <td>582.0</td>\n",
       "      <td>2-back</td>\n",
       "    </tr>\n",
       "    <tr>\n",
       "      <th>36</th>\n",
       "      <td>4.0</td>\n",
       "      <td>612.0</td>\n",
       "      <td>intro</td>\n",
       "    </tr>\n",
       "    <tr>\n",
       "      <th>37</th>\n",
       "      <td>30.0</td>\n",
       "      <td>616.0</td>\n",
       "      <td>1-back</td>\n",
       "    </tr>\n",
       "    <tr>\n",
       "      <th>38</th>\n",
       "      <td>4.0</td>\n",
       "      <td>646.0</td>\n",
       "      <td>intro</td>\n",
       "    </tr>\n",
       "    <tr>\n",
       "      <th>39</th>\n",
       "      <td>30.0</td>\n",
       "      <td>650.0</td>\n",
       "      <td>2-back</td>\n",
       "    </tr>\n",
       "  </tbody>\n",
       "</table>\n",
       "</div>"
      ],
      "text/plain": [
       "    duration  onset trial_type\n",
       "0        4.0    0.0      intro\n",
       "1       30.0    4.0     1-back\n",
       "2        4.0   34.0      intro\n",
       "3       30.0   38.0     2-back\n",
       "4        4.0   68.0      intro\n",
       "5       30.0   72.0     1-back\n",
       "6        4.0  102.0      intro\n",
       "7       30.0  106.0     2-back\n",
       "8        4.0  136.0      intro\n",
       "9       30.0  140.0     1-back\n",
       "10       4.0  170.0      intro\n",
       "11      30.0  174.0     2-back\n",
       "12       4.0  204.0      intro\n",
       "13      30.0  208.0     1-back\n",
       "14       4.0  238.0      intro\n",
       "15      30.0  242.0     2-back\n",
       "16       4.0  272.0      intro\n",
       "17      30.0  276.0     1-back\n",
       "18       4.0  306.0      intro\n",
       "19      30.0  310.0     2-back\n",
       "20       4.0  340.0      intro\n",
       "21      30.0  344.0     1-back\n",
       "22       4.0  374.0      intro\n",
       "23      30.0  378.0     2-back\n",
       "24       4.0  408.0      intro\n",
       "25      30.0  412.0     1-back\n",
       "26       4.0  442.0      intro\n",
       "27      30.0  446.0     2-back\n",
       "28       4.0  476.0      intro\n",
       "29      30.0  480.0     1-back\n",
       "30       4.0  510.0      intro\n",
       "31      30.0  514.0     2-back\n",
       "32       4.0  544.0      intro\n",
       "33      30.0  548.0     1-back\n",
       "34       4.0  578.0      intro\n",
       "35      30.0  582.0     2-back\n",
       "36       4.0  612.0      intro\n",
       "37      30.0  616.0     1-back\n",
       "38       4.0  646.0      intro\n",
       "39      30.0  650.0     2-back"
      ]
     },
     "execution_count": 4,
     "metadata": {},
     "output_type": "execute_result"
    }
   ],
   "source": [
    "tr = 2\n",
    "n_scans = 340\n",
    "\n",
    "events = pd.read_csv(onsets_dir)\n",
    "events"
   ]
  },
  {
   "cell_type": "code",
   "execution_count": 18,
   "metadata": {},
   "outputs": [
    {
     "data": {
      "text/plain": [
       "<matplotlib.axes._subplots.AxesSubplot at 0x7f50d92b52e8>"
      ]
     },
     "execution_count": 18,
     "metadata": {},
     "output_type": "execute_result"
    },
    {
     "data": {
      "image/png": "[encoded data removed]",
      "text/plain": [
       "<matplotlib.figure.Figure at 0x7f50eef5ed30>"
      ]
     },
     "metadata": {},
     "output_type": "display_data"
    }
   ],
   "source": [
    "from nistats.first_level_model import FirstLevelModel\n",
    "\n",
    "fmri_glm = FirstLevelModel(tr, drift_model = None)\n",
    "fmri_glm = fmri_glm.fit(fmri_img, events)\n",
    "\n",
    "from nistats.reporting import plot_design_matrix\n",
    "design_matrix = fmri_glm.design_matrices_[0]\n",
    "plot_design_matrix(design_matrix)"
   ]
  },
  {
   "cell_type": "code",
   "execution_count": 8,
   "metadata": {},
   "outputs": [
    {
     "data": {
      "text/plain": [
       "array([[ 1.,  0.,  0.,  0.],\n",
       "       [ 0.,  1.,  0.,  0.],\n",
       "       [ 0.,  0.,  1.,  0.],\n",
       "       [ 0.,  0.,  0.,  1.]])"
      ]
     },
     "execution_count": 8,
     "metadata": {},
     "output_type": "execute_result"
    }
   ],
   "source": [
    "contrast_matrix = np.eye(design_matrix.shape[1])\n",
    "contrasts = dict([(column, contrast_matrix[i])\n",
    "                  for i, column in enumerate(design_matrix.columns)])\n",
    "contrast_matrix"
   ]
  },
  {
   "cell_type": "code",
   "execution_count": 17,
   "metadata": {},
   "outputs": [
    {
     "data": {
      "text/plain": [
       "[<matplotlib.lines.Line2D at 0x7f50d92fdc88>]"
      ]
     },
     "execution_count": 17,
     "metadata": {},
     "output_type": "execute_result"
    },
    {
     "data": {
      "image/png": "[encoded data removed]",
      "text/plain": [
       "<matplotlib.figure.Figure at 0x7f50d9353080>"
      ]
     },
     "metadata": {},
     "output_type": "display_data"
    }
   ],
   "source": [
    "import matplotlib.pyplot as plt\n",
    "\n",
    "plt.plot(design_matrix['1-back'])"
   ]
  },
  {
   "cell_type": "code",
   "execution_count": 34,
   "metadata": {},
   "outputs": [],
   "source": [
    "active_minus_rest =  contrasts['2-back'] - contrasts['1-back']\n",
    "\n",
    "eff_map = fmri_glm.compute_contrast(active_minus_rest,\n",
    "                                    output_type='effect_size')\n",
    "\n",
    "z_map = fmri_glm.compute_contrast(active_minus_rest,\n",
    "                                  output_type='z_score')"
   ]
  },
  {
   "cell_type": "code",
   "execution_count": 35,
   "metadata": {},
   "outputs": [
    {
     "data": {
      "text/plain": [
       "<nilearn.plotting.displays.ZSlicer at 0x7fe7dc843c88>"
      ]
     },
     "execution_count": 35,
     "metadata": {},
     "output_type": "execute_result"
    },
    {
     "data": {
      "image/png": "[encoded data removed]",
      "text/plain": [
       "<matplotlib.figure.Figure at 0x7fe7dc9304e0>"
      ]
     },
     "metadata": {},
     "output_type": "display_data"
    }
   ],
   "source": [
    "from nilearn.plotting import plot_stat_map, plot_anat, plot_img\n",
    "\n",
    "plot_stat_map(z_map, threshold=3.0,\n",
    "              display_mode='z', cut_coords=3, black_bg=True,\n",
    "              title='Active minus Rest (Z>3)')"
   ]
  },
  {
   "cell_type": "code",
   "execution_count": null,
   "metadata": {},
   "outputs": [],
   "source": []
  }
 ],
 "metadata": {
  "kernelspec": {
   "display_name": "Python 3",
   "language": "python",
   "name": "python3"
  },
  "language_info": {
   "codemirror_mode": {
    "name": "ipython",
    "version": 3
   },
   "file_extension": ".py",
   "mimetype": "text/x-python",
   "name": "python",
   "nbconvert_exporter": "python",
   "pygments_lexer": "ipython3",
   "version": "3.6.3"
  }
 },
 "nbformat": 4,
 "nbformat_minor": 2
}
